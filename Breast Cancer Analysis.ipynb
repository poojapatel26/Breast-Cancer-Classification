{
 "cells": [
  {
   "cell_type": "code",
   "execution_count": 1,
   "metadata": {},
   "outputs": [],
   "source": [
    "import pandas as pd\n",
    "import numpy as np"
   ]
  },
  {
   "cell_type": "code",
   "execution_count": 2,
   "metadata": {},
   "outputs": [],
   "source": [
    "import matplotlib.pyplot as plt\n",
    "import seaborn as sns"
   ]
  },
  {
   "cell_type": "code",
   "execution_count": 3,
   "metadata": {},
   "outputs": [],
   "source": [
    "%matplotlib inline"
   ]
  },
  {
   "cell_type": "code",
   "execution_count": 4,
   "metadata": {},
   "outputs": [],
   "source": [
    "from sklearn.datasets import load_breast_cancer"
   ]
  },
  {
   "cell_type": "code",
   "execution_count": 5,
   "metadata": {},
   "outputs": [],
   "source": [
    "l = load_breast_cancer()"
   ]
  },
  {
   "cell_type": "code",
   "execution_count": 9,
   "metadata": {},
   "outputs": [
    {
     "data": {
      "text/plain": [
       "dict_keys(['data', 'target', 'target_names', 'DESCR', 'feature_names', 'filename'])"
      ]
     },
     "execution_count": 9,
     "metadata": {},
     "output_type": "execute_result"
    }
   ],
   "source": [
    "l.keys()\n"
   ]
  },
  {
   "cell_type": "code",
   "execution_count": 11,
   "metadata": {},
   "outputs": [
    {
     "data": {
      "text/plain": [
       "array([[1.799e+01, 1.038e+01, 1.228e+02, ..., 2.654e-01, 4.601e-01,\n",
       "        1.189e-01],\n",
       "       [2.057e+01, 1.777e+01, 1.329e+02, ..., 1.860e-01, 2.750e-01,\n",
       "        8.902e-02],\n",
       "       [1.969e+01, 2.125e+01, 1.300e+02, ..., 2.430e-01, 3.613e-01,\n",
       "        8.758e-02],\n",
       "       ...,\n",
       "       [1.660e+01, 2.808e+01, 1.083e+02, ..., 1.418e-01, 2.218e-01,\n",
       "        7.820e-02],\n",
       "       [2.060e+01, 2.933e+01, 1.401e+02, ..., 2.650e-01, 4.087e-01,\n",
       "        1.240e-01],\n",
       "       [7.760e+00, 2.454e+01, 4.792e+01, ..., 0.000e+00, 2.871e-01,\n",
       "        7.039e-02]])"
      ]
     },
     "execution_count": 11,
     "metadata": {},
     "output_type": "execute_result"
    }
   ],
   "source": [
    "l['data']"
   ]
  },
  {
   "cell_type": "code",
   "execution_count": 12,
   "metadata": {},
   "outputs": [],
   "source": [
    "df_cancer = pd.DataFrame(np.c_[l['data'], l['target']], columns = np.append(l['feature_names'], ['target']))\n"
   ]
  },
  {
   "cell_type": "code",
   "execution_count": 13,
   "metadata": {},
   "outputs": [
    {
     "data": {
      "text/html": [
       "<div>\n",
       "<style scoped>\n",
       "    .dataframe tbody tr th:only-of-type {\n",
       "        vertical-align: middle;\n",
       "    }\n",
       "\n",
       "    .dataframe tbody tr th {\n",
       "        vertical-align: top;\n",
       "    }\n",
       "\n",
       "    .dataframe thead th {\n",
       "        text-align: right;\n",
       "    }\n",
       "</style>\n",
       "<table border=\"1\" class=\"dataframe\">\n",
       "  <thead>\n",
       "    <tr style=\"text-align: right;\">\n",
       "      <th></th>\n",
       "      <th>mean radius</th>\n",
       "      <th>mean texture</th>\n",
       "      <th>mean perimeter</th>\n",
       "      <th>mean area</th>\n",
       "      <th>mean smoothness</th>\n",
       "      <th>mean compactness</th>\n",
       "      <th>mean concavity</th>\n",
       "      <th>mean concave points</th>\n",
       "      <th>mean symmetry</th>\n",
       "      <th>mean fractal dimension</th>\n",
       "      <th>...</th>\n",
       "      <th>worst texture</th>\n",
       "      <th>worst perimeter</th>\n",
       "      <th>worst area</th>\n",
       "      <th>worst smoothness</th>\n",
       "      <th>worst compactness</th>\n",
       "      <th>worst concavity</th>\n",
       "      <th>worst concave points</th>\n",
       "      <th>worst symmetry</th>\n",
       "      <th>worst fractal dimension</th>\n",
       "      <th>target</th>\n",
       "    </tr>\n",
       "  </thead>\n",
       "  <tbody>\n",
       "    <tr>\n",
       "      <td>0</td>\n",
       "      <td>17.99</td>\n",
       "      <td>10.38</td>\n",
       "      <td>122.80</td>\n",
       "      <td>1001.0</td>\n",
       "      <td>0.11840</td>\n",
       "      <td>0.27760</td>\n",
       "      <td>0.3001</td>\n",
       "      <td>0.14710</td>\n",
       "      <td>0.2419</td>\n",
       "      <td>0.07871</td>\n",
       "      <td>...</td>\n",
       "      <td>17.33</td>\n",
       "      <td>184.60</td>\n",
       "      <td>2019.0</td>\n",
       "      <td>0.1622</td>\n",
       "      <td>0.6656</td>\n",
       "      <td>0.7119</td>\n",
       "      <td>0.2654</td>\n",
       "      <td>0.4601</td>\n",
       "      <td>0.11890</td>\n",
       "      <td>0.0</td>\n",
       "    </tr>\n",
       "    <tr>\n",
       "      <td>1</td>\n",
       "      <td>20.57</td>\n",
       "      <td>17.77</td>\n",
       "      <td>132.90</td>\n",
       "      <td>1326.0</td>\n",
       "      <td>0.08474</td>\n",
       "      <td>0.07864</td>\n",
       "      <td>0.0869</td>\n",
       "      <td>0.07017</td>\n",
       "      <td>0.1812</td>\n",
       "      <td>0.05667</td>\n",
       "      <td>...</td>\n",
       "      <td>23.41</td>\n",
       "      <td>158.80</td>\n",
       "      <td>1956.0</td>\n",
       "      <td>0.1238</td>\n",
       "      <td>0.1866</td>\n",
       "      <td>0.2416</td>\n",
       "      <td>0.1860</td>\n",
       "      <td>0.2750</td>\n",
       "      <td>0.08902</td>\n",
       "      <td>0.0</td>\n",
       "    </tr>\n",
       "    <tr>\n",
       "      <td>2</td>\n",
       "      <td>19.69</td>\n",
       "      <td>21.25</td>\n",
       "      <td>130.00</td>\n",
       "      <td>1203.0</td>\n",
       "      <td>0.10960</td>\n",
       "      <td>0.15990</td>\n",
       "      <td>0.1974</td>\n",
       "      <td>0.12790</td>\n",
       "      <td>0.2069</td>\n",
       "      <td>0.05999</td>\n",
       "      <td>...</td>\n",
       "      <td>25.53</td>\n",
       "      <td>152.50</td>\n",
       "      <td>1709.0</td>\n",
       "      <td>0.1444</td>\n",
       "      <td>0.4245</td>\n",
       "      <td>0.4504</td>\n",
       "      <td>0.2430</td>\n",
       "      <td>0.3613</td>\n",
       "      <td>0.08758</td>\n",
       "      <td>0.0</td>\n",
       "    </tr>\n",
       "    <tr>\n",
       "      <td>3</td>\n",
       "      <td>11.42</td>\n",
       "      <td>20.38</td>\n",
       "      <td>77.58</td>\n",
       "      <td>386.1</td>\n",
       "      <td>0.14250</td>\n",
       "      <td>0.28390</td>\n",
       "      <td>0.2414</td>\n",
       "      <td>0.10520</td>\n",
       "      <td>0.2597</td>\n",
       "      <td>0.09744</td>\n",
       "      <td>...</td>\n",
       "      <td>26.50</td>\n",
       "      <td>98.87</td>\n",
       "      <td>567.7</td>\n",
       "      <td>0.2098</td>\n",
       "      <td>0.8663</td>\n",
       "      <td>0.6869</td>\n",
       "      <td>0.2575</td>\n",
       "      <td>0.6638</td>\n",
       "      <td>0.17300</td>\n",
       "      <td>0.0</td>\n",
       "    </tr>\n",
       "    <tr>\n",
       "      <td>4</td>\n",
       "      <td>20.29</td>\n",
       "      <td>14.34</td>\n",
       "      <td>135.10</td>\n",
       "      <td>1297.0</td>\n",
       "      <td>0.10030</td>\n",
       "      <td>0.13280</td>\n",
       "      <td>0.1980</td>\n",
       "      <td>0.10430</td>\n",
       "      <td>0.1809</td>\n",
       "      <td>0.05883</td>\n",
       "      <td>...</td>\n",
       "      <td>16.67</td>\n",
       "      <td>152.20</td>\n",
       "      <td>1575.0</td>\n",
       "      <td>0.1374</td>\n",
       "      <td>0.2050</td>\n",
       "      <td>0.4000</td>\n",
       "      <td>0.1625</td>\n",
       "      <td>0.2364</td>\n",
       "      <td>0.07678</td>\n",
       "      <td>0.0</td>\n",
       "    </tr>\n",
       "  </tbody>\n",
       "</table>\n",
       "<p>5 rows × 31 columns</p>\n",
       "</div>"
      ],
      "text/plain": [
       "   mean radius  mean texture  mean perimeter  mean area  mean smoothness  \\\n",
       "0        17.99         10.38          122.80     1001.0          0.11840   \n",
       "1        20.57         17.77          132.90     1326.0          0.08474   \n",
       "2        19.69         21.25          130.00     1203.0          0.10960   \n",
       "3        11.42         20.38           77.58      386.1          0.14250   \n",
       "4        20.29         14.34          135.10     1297.0          0.10030   \n",
       "\n",
       "   mean compactness  mean concavity  mean concave points  mean symmetry  \\\n",
       "0           0.27760          0.3001              0.14710         0.2419   \n",
       "1           0.07864          0.0869              0.07017         0.1812   \n",
       "2           0.15990          0.1974              0.12790         0.2069   \n",
       "3           0.28390          0.2414              0.10520         0.2597   \n",
       "4           0.13280          0.1980              0.10430         0.1809   \n",
       "\n",
       "   mean fractal dimension  ...  worst texture  worst perimeter  worst area  \\\n",
       "0                 0.07871  ...          17.33           184.60      2019.0   \n",
       "1                 0.05667  ...          23.41           158.80      1956.0   \n",
       "2                 0.05999  ...          25.53           152.50      1709.0   \n",
       "3                 0.09744  ...          26.50            98.87       567.7   \n",
       "4                 0.05883  ...          16.67           152.20      1575.0   \n",
       "\n",
       "   worst smoothness  worst compactness  worst concavity  worst concave points  \\\n",
       "0            0.1622             0.6656           0.7119                0.2654   \n",
       "1            0.1238             0.1866           0.2416                0.1860   \n",
       "2            0.1444             0.4245           0.4504                0.2430   \n",
       "3            0.2098             0.8663           0.6869                0.2575   \n",
       "4            0.1374             0.2050           0.4000                0.1625   \n",
       "\n",
       "   worst symmetry  worst fractal dimension  target  \n",
       "0          0.4601                  0.11890     0.0  \n",
       "1          0.2750                  0.08902     0.0  \n",
       "2          0.3613                  0.08758     0.0  \n",
       "3          0.6638                  0.17300     0.0  \n",
       "4          0.2364                  0.07678     0.0  \n",
       "\n",
       "[5 rows x 31 columns]"
      ]
     },
     "execution_count": 13,
     "metadata": {},
     "output_type": "execute_result"
    }
   ],
   "source": [
    "df_cancer.head()"
   ]
  },
  {
   "cell_type": "code",
   "execution_count": 16,
   "metadata": {},
   "outputs": [],
   "source": [
    "from sklearn.model_selection import train_test_split"
   ]
  },
  {
   "cell_type": "code",
   "execution_count": 17,
   "metadata": {},
   "outputs": [],
   "source": [
    "X = df_cancer.drop('target',axis=1)\n",
    "\n",
    "y= df_cancer['target']"
   ]
  },
  {
   "cell_type": "code",
   "execution_count": 18,
   "metadata": {},
   "outputs": [],
   "source": [
    "X_train, X_test, y_train, y_test = train_test_split(X, y, test_size=0.3, random_state=5)"
   ]
  },
  {
   "cell_type": "code",
   "execution_count": 19,
   "metadata": {},
   "outputs": [],
   "source": [
    "from sklearn.preprocessing import StandardScaler"
   ]
  },
  {
   "cell_type": "code",
   "execution_count": 20,
   "metadata": {},
   "outputs": [],
   "source": [
    "scaler = StandardScaler()"
   ]
  },
  {
   "cell_type": "code",
   "execution_count": 22,
   "metadata": {},
   "outputs": [
    {
     "data": {
      "text/html": [
       "<div>\n",
       "<style scoped>\n",
       "    .dataframe tbody tr th:only-of-type {\n",
       "        vertical-align: middle;\n",
       "    }\n",
       "\n",
       "    .dataframe tbody tr th {\n",
       "        vertical-align: top;\n",
       "    }\n",
       "\n",
       "    .dataframe thead th {\n",
       "        text-align: right;\n",
       "    }\n",
       "</style>\n",
       "<table border=\"1\" class=\"dataframe\">\n",
       "  <thead>\n",
       "    <tr style=\"text-align: right;\">\n",
       "      <th></th>\n",
       "      <th>mean radius</th>\n",
       "      <th>mean texture</th>\n",
       "      <th>mean perimeter</th>\n",
       "      <th>mean area</th>\n",
       "      <th>mean smoothness</th>\n",
       "      <th>mean compactness</th>\n",
       "      <th>mean concavity</th>\n",
       "      <th>mean concave points</th>\n",
       "      <th>mean symmetry</th>\n",
       "      <th>mean fractal dimension</th>\n",
       "      <th>...</th>\n",
       "      <th>worst radius</th>\n",
       "      <th>worst texture</th>\n",
       "      <th>worst perimeter</th>\n",
       "      <th>worst area</th>\n",
       "      <th>worst smoothness</th>\n",
       "      <th>worst compactness</th>\n",
       "      <th>worst concavity</th>\n",
       "      <th>worst concave points</th>\n",
       "      <th>worst symmetry</th>\n",
       "      <th>worst fractal dimension</th>\n",
       "    </tr>\n",
       "  </thead>\n",
       "  <tbody>\n",
       "    <tr>\n",
       "      <td>47</td>\n",
       "      <td>13.17</td>\n",
       "      <td>18.66</td>\n",
       "      <td>85.98</td>\n",
       "      <td>534.6</td>\n",
       "      <td>0.11580</td>\n",
       "      <td>0.12310</td>\n",
       "      <td>0.12260</td>\n",
       "      <td>0.07340</td>\n",
       "      <td>0.2128</td>\n",
       "      <td>0.06777</td>\n",
       "      <td>...</td>\n",
       "      <td>15.67</td>\n",
       "      <td>27.95</td>\n",
       "      <td>102.80</td>\n",
       "      <td>759.4</td>\n",
       "      <td>0.1786</td>\n",
       "      <td>0.4166</td>\n",
       "      <td>0.5006</td>\n",
       "      <td>0.2088</td>\n",
       "      <td>0.390</td>\n",
       "      <td>0.11790</td>\n",
       "    </tr>\n",
       "    <tr>\n",
       "      <td>527</td>\n",
       "      <td>12.34</td>\n",
       "      <td>12.27</td>\n",
       "      <td>78.94</td>\n",
       "      <td>468.5</td>\n",
       "      <td>0.09003</td>\n",
       "      <td>0.06307</td>\n",
       "      <td>0.02958</td>\n",
       "      <td>0.02647</td>\n",
       "      <td>0.1689</td>\n",
       "      <td>0.05808</td>\n",
       "      <td>...</td>\n",
       "      <td>13.61</td>\n",
       "      <td>19.27</td>\n",
       "      <td>87.22</td>\n",
       "      <td>564.9</td>\n",
       "      <td>0.1292</td>\n",
       "      <td>0.2074</td>\n",
       "      <td>0.1791</td>\n",
       "      <td>0.1070</td>\n",
       "      <td>0.311</td>\n",
       "      <td>0.07592</td>\n",
       "    </tr>\n",
       "  </tbody>\n",
       "</table>\n",
       "<p>2 rows × 30 columns</p>\n",
       "</div>"
      ],
      "text/plain": [
       "     mean radius  mean texture  mean perimeter  mean area  mean smoothness  \\\n",
       "47         13.17         18.66           85.98      534.6          0.11580   \n",
       "527        12.34         12.27           78.94      468.5          0.09003   \n",
       "\n",
       "     mean compactness  mean concavity  mean concave points  mean symmetry  \\\n",
       "47            0.12310         0.12260              0.07340         0.2128   \n",
       "527           0.06307         0.02958              0.02647         0.1689   \n",
       "\n",
       "     mean fractal dimension  ...  worst radius  worst texture  \\\n",
       "47                  0.06777  ...         15.67          27.95   \n",
       "527                 0.05808  ...         13.61          19.27   \n",
       "\n",
       "     worst perimeter  worst area  worst smoothness  worst compactness  \\\n",
       "47            102.80       759.4            0.1786             0.4166   \n",
       "527            87.22       564.9            0.1292             0.2074   \n",
       "\n",
       "     worst concavity  worst concave points  worst symmetry  \\\n",
       "47            0.5006                0.2088           0.390   \n",
       "527           0.1791                0.1070           0.311   \n",
       "\n",
       "     worst fractal dimension  \n",
       "47                   0.11790  \n",
       "527                  0.07592  \n",
       "\n",
       "[2 rows x 30 columns]"
      ]
     },
     "execution_count": 22,
     "metadata": {},
     "output_type": "execute_result"
    }
   ],
   "source": [
    "X_train.head(2)"
   ]
  },
  {
   "cell_type": "code",
   "execution_count": 23,
   "metadata": {},
   "outputs": [],
   "source": [
    "X_train = scaler.fit_transform(X_train)"
   ]
  },
  {
   "cell_type": "code",
   "execution_count": 25,
   "metadata": {},
   "outputs": [
    {
     "data": {
      "text/plain": [
       "array([[-0.28070029, -0.10714079, -0.2516669 , ...,  1.45474568,\n",
       "         1.67340157,  1.92775575],\n",
       "       [-0.52464302, -1.62540348, -0.55199551, ..., -0.10332565,\n",
       "         0.363454  , -0.41885018],\n",
       "       [-0.0426357 ,  0.12095501, -0.0323929 , ...,  1.05527945,\n",
       "         0.47786714,  1.23461822],\n",
       "       ...,\n",
       "       [ 1.11241842,  0.45359472,  1.38734231, ...,  1.26496096,\n",
       "         0.5873058 ,  2.0339623 ],\n",
       "       [ 0.48639672,  0.90265834,  0.58959446, ...,  1.37209749,\n",
       "         0.63539248,  2.33581252],\n",
       "       [-1.24882962, -0.43740451, -1.23541371, ..., -0.88572846,\n",
       "         0.16281646, -0.53735434]])"
      ]
     },
     "execution_count": 25,
     "metadata": {},
     "output_type": "execute_result"
    }
   ],
   "source": [
    "X_train"
   ]
  },
  {
   "cell_type": "code",
   "execution_count": 26,
   "metadata": {},
   "outputs": [
    {
     "data": {
      "text/html": [
       "<div>\n",
       "<style scoped>\n",
       "    .dataframe tbody tr th:only-of-type {\n",
       "        vertical-align: middle;\n",
       "    }\n",
       "\n",
       "    .dataframe tbody tr th {\n",
       "        vertical-align: top;\n",
       "    }\n",
       "\n",
       "    .dataframe thead th {\n",
       "        text-align: right;\n",
       "    }\n",
       "</style>\n",
       "<table border=\"1\" class=\"dataframe\">\n",
       "  <thead>\n",
       "    <tr style=\"text-align: right;\">\n",
       "      <th></th>\n",
       "      <th>mean radius</th>\n",
       "      <th>mean texture</th>\n",
       "      <th>mean perimeter</th>\n",
       "      <th>mean area</th>\n",
       "      <th>mean smoothness</th>\n",
       "      <th>mean compactness</th>\n",
       "      <th>mean concavity</th>\n",
       "      <th>mean concave points</th>\n",
       "      <th>mean symmetry</th>\n",
       "      <th>mean fractal dimension</th>\n",
       "      <th>...</th>\n",
       "      <th>worst radius</th>\n",
       "      <th>worst texture</th>\n",
       "      <th>worst perimeter</th>\n",
       "      <th>worst area</th>\n",
       "      <th>worst smoothness</th>\n",
       "      <th>worst compactness</th>\n",
       "      <th>worst concavity</th>\n",
       "      <th>worst concave points</th>\n",
       "      <th>worst symmetry</th>\n",
       "      <th>worst fractal dimension</th>\n",
       "    </tr>\n",
       "  </thead>\n",
       "  <tbody>\n",
       "    <tr>\n",
       "      <td>28</td>\n",
       "      <td>15.30</td>\n",
       "      <td>25.27</td>\n",
       "      <td>102.40</td>\n",
       "      <td>732.4</td>\n",
       "      <td>0.1082</td>\n",
       "      <td>0.1697</td>\n",
       "      <td>0.1683</td>\n",
       "      <td>0.08751</td>\n",
       "      <td>0.1926</td>\n",
       "      <td>0.06540</td>\n",
       "      <td>...</td>\n",
       "      <td>20.27</td>\n",
       "      <td>36.71</td>\n",
       "      <td>149.30</td>\n",
       "      <td>1269.0</td>\n",
       "      <td>0.1641</td>\n",
       "      <td>0.6110</td>\n",
       "      <td>0.6335</td>\n",
       "      <td>0.20240</td>\n",
       "      <td>0.4027</td>\n",
       "      <td>0.09876</td>\n",
       "    </tr>\n",
       "    <tr>\n",
       "      <td>163</td>\n",
       "      <td>12.34</td>\n",
       "      <td>22.22</td>\n",
       "      <td>79.85</td>\n",
       "      <td>464.5</td>\n",
       "      <td>0.1012</td>\n",
       "      <td>0.1015</td>\n",
       "      <td>0.0537</td>\n",
       "      <td>0.02822</td>\n",
       "      <td>0.1551</td>\n",
       "      <td>0.06761</td>\n",
       "      <td>...</td>\n",
       "      <td>13.58</td>\n",
       "      <td>28.68</td>\n",
       "      <td>87.36</td>\n",
       "      <td>553.0</td>\n",
       "      <td>0.1452</td>\n",
       "      <td>0.2338</td>\n",
       "      <td>0.1688</td>\n",
       "      <td>0.08194</td>\n",
       "      <td>0.2268</td>\n",
       "      <td>0.09082</td>\n",
       "    </tr>\n",
       "  </tbody>\n",
       "</table>\n",
       "<p>2 rows × 30 columns</p>\n",
       "</div>"
      ],
      "text/plain": [
       "     mean radius  mean texture  mean perimeter  mean area  mean smoothness  \\\n",
       "28         15.30         25.27          102.40      732.4           0.1082   \n",
       "163        12.34         22.22           79.85      464.5           0.1012   \n",
       "\n",
       "     mean compactness  mean concavity  mean concave points  mean symmetry  \\\n",
       "28             0.1697          0.1683              0.08751         0.1926   \n",
       "163            0.1015          0.0537              0.02822         0.1551   \n",
       "\n",
       "     mean fractal dimension  ...  worst radius  worst texture  \\\n",
       "28                  0.06540  ...         20.27          36.71   \n",
       "163                 0.06761  ...         13.58          28.68   \n",
       "\n",
       "     worst perimeter  worst area  worst smoothness  worst compactness  \\\n",
       "28            149.30      1269.0            0.1641             0.6110   \n",
       "163            87.36       553.0            0.1452             0.2338   \n",
       "\n",
       "     worst concavity  worst concave points  worst symmetry  \\\n",
       "28            0.6335               0.20240          0.4027   \n",
       "163           0.1688               0.08194          0.2268   \n",
       "\n",
       "     worst fractal dimension  \n",
       "28                   0.09876  \n",
       "163                  0.09082  \n",
       "\n",
       "[2 rows x 30 columns]"
      ]
     },
     "execution_count": 26,
     "metadata": {},
     "output_type": "execute_result"
    }
   ],
   "source": [
    "X_test.head(2)"
   ]
  },
  {
   "cell_type": "code",
   "execution_count": 27,
   "metadata": {},
   "outputs": [],
   "source": [
    "X_test = scaler.transform(X_test)"
   ]
  },
  {
   "cell_type": "code",
   "execution_count": 28,
   "metadata": {},
   "outputs": [],
   "source": [
    "from sklearn.svm import SVC"
   ]
  },
  {
   "cell_type": "code",
   "execution_count": 29,
   "metadata": {},
   "outputs": [],
   "source": [
    "svc = SVC()"
   ]
  },
  {
   "cell_type": "code",
   "execution_count": 30,
   "metadata": {},
   "outputs": [
    {
     "data": {
      "text/plain": [
       "SVC(C=1.0, cache_size=200, class_weight=None, coef0=0.0,\n",
       "    decision_function_shape='ovr', degree=3, gamma='auto_deprecated',\n",
       "    kernel='rbf', max_iter=-1, probability=False, random_state=None,\n",
       "    shrinking=True, tol=0.001, verbose=False)"
      ]
     },
     "execution_count": 30,
     "metadata": {},
     "output_type": "execute_result"
    }
   ],
   "source": [
    "svc.fit(X_train,y_train)"
   ]
  },
  {
   "cell_type": "code",
   "execution_count": 31,
   "metadata": {},
   "outputs": [],
   "source": [
    "pre= svc.predict(X_test)"
   ]
  },
  {
   "cell_type": "code",
   "execution_count": 32,
   "metadata": {},
   "outputs": [],
   "source": [
    "from sklearn.metrics import confusion_matrix,classification_report"
   ]
  },
  {
   "cell_type": "code",
   "execution_count": 33,
   "metadata": {},
   "outputs": [
    {
     "name": "stdout",
     "output_type": "stream",
     "text": [
      "              precision    recall  f1-score   support\n",
      "\n",
      "         0.0       0.98      0.97      0.98        61\n",
      "         1.0       0.98      0.99      0.99       110\n",
      "\n",
      "    accuracy                           0.98       171\n",
      "   macro avg       0.98      0.98      0.98       171\n",
      "weighted avg       0.98      0.98      0.98       171\n",
      "\n"
     ]
    }
   ],
   "source": [
    "print(classification_report(y_test,pre))"
   ]
  },
  {
   "cell_type": "code",
   "execution_count": 35,
   "metadata": {},
   "outputs": [],
   "source": [
    "cm = confusion_matrix(y_test,pre)"
   ]
  },
  {
   "cell_type": "code",
   "execution_count": 49,
   "metadata": {},
   "outputs": [
    {
     "name": "stdout",
     "output_type": "stream",
     "text": [
      "[[ 59   2]\n",
      " [  1 109]]\n"
     ]
    }
   ],
   "source": [
    "print(cm)"
   ]
  },
  {
   "cell_type": "code",
   "execution_count": 50,
   "metadata": {},
   "outputs": [],
   "source": [
    "from sklearn.model_selection import cross_val_score"
   ]
  },
  {
   "cell_type": "code",
   "execution_count": 91,
   "metadata": {},
   "outputs": [],
   "source": [
    "from sklearn.model_selection import GridSearchCV"
   ]
  },
  {
   "cell_type": "code",
   "execution_count": 92,
   "metadata": {},
   "outputs": [],
   "source": [
    "paramaters = [{'C':[10,12,11,9],'gamma':[0.05,0.01,0.1,0.12],'kernel':['rbf']}]\n",
    "grid = GridSearchCV(estimator=SVC(),param_grid=paramaters,verbose=3,refit=True,cv=10)"
   ]
  },
  {
   "cell_type": "code",
   "execution_count": 93,
   "metadata": {},
   "outputs": [
    {
     "name": "stdout",
     "output_type": "stream",
     "text": [
      "Fitting 10 folds for each of 16 candidates, totalling 160 fits\n",
      "[CV] C=10, gamma=0.05, kernel=rbf ....................................\n",
      "[CV] ........ C=10, gamma=0.05, kernel=rbf, score=1.000, total=   0.0s\n",
      "[CV] C=10, gamma=0.05, kernel=rbf ....................................\n",
      "[CV] ........ C=10, gamma=0.05, kernel=rbf, score=0.950, total=   0.0s\n",
      "[CV] C=10, gamma=0.05, kernel=rbf ....................................\n",
      "[CV] ........ C=10, gamma=0.05, kernel=rbf, score=0.975, total=   0.0s\n",
      "[CV] C=10, gamma=0.05, kernel=rbf ....................................\n",
      "[CV] ........ C=10, gamma=0.05, kernel=rbf, score=0.875, total=   0.0s\n",
      "[CV] C=10, gamma=0.05, kernel=rbf ....................................\n",
      "[CV] ........ C=10, gamma=0.05, kernel=rbf, score=0.975, total=   0.0s\n",
      "[CV] C=10, gamma=0.05, kernel=rbf ....................................\n",
      "[CV] ........ C=10, gamma=0.05, kernel=rbf, score=0.925, total=   0.0s\n",
      "[CV] C=10, gamma=0.05, kernel=rbf ....................................\n",
      "[CV] ........ C=10, gamma=0.05, kernel=rbf, score=1.000, total=   0.0s\n",
      "[CV] C=10, gamma=0.05, kernel=rbf ....................................\n",
      "[CV] ........ C=10, gamma=0.05, kernel=rbf, score=1.000, total=   0.0s\n",
      "[CV] C=10, gamma=0.05, kernel=rbf ....................................\n",
      "[CV] ........ C=10, gamma=0.05, kernel=rbf, score=0.949, total=   0.0s\n",
      "[CV] C=10, gamma=0.05, kernel=rbf ....................................\n",
      "[CV] ........ C=10, gamma=0.05, kernel=rbf, score=0.949, total=   0.0s\n",
      "[CV] C=10, gamma=0.01, kernel=rbf ....................................\n",
      "[CV] ........ C=10, gamma=0.01, kernel=rbf, score=1.000, total=   0.0s\n",
      "[CV] C=10, gamma=0.01, kernel=rbf ....................................\n",
      "[CV] ........ C=10, gamma=0.01, kernel=rbf, score=0.975, total=   0.0s\n",
      "[CV] C=10, gamma=0.01, kernel=rbf ....................................\n",
      "[CV] ........ C=10, gamma=0.01, kernel=rbf, score=0.950, total=   0.0s\n",
      "[CV] C=10, gamma=0.01, kernel=rbf ....................................\n",
      "[CV] ........ C=10, gamma=0.01, kernel=rbf, score=0.950, total=   0.0s\n",
      "[CV] C=10, gamma=0.01, kernel=rbf ....................................\n",
      "[CV] ........ C=10, gamma=0.01, kernel=rbf, score=1.000, total=   0.0s\n",
      "[CV] C=10, gamma=0.01, kernel=rbf ....................................\n",
      "[CV] ........ C=10, gamma=0.01, kernel=rbf, score=0.950, total=   0.0s\n",
      "[CV] C=10, gamma=0.01, kernel=rbf ....................................\n",
      "[CV] ........ C=10, gamma=0.01, kernel=rbf, score=1.000, total=   0.0s\n",
      "[CV] C=10, gamma=0.01, kernel=rbf ....................................\n",
      "[CV] ........ C=10, gamma=0.01, kernel=rbf, score=1.000, total=   0.0s\n",
      "[CV] C=10, gamma=0.01, kernel=rbf ....................................\n",
      "[CV] ........ C=10, gamma=0.01, kernel=rbf, score=0.974, total=   0.0s\n",
      "[CV] C=10, gamma=0.01, kernel=rbf ....................................\n",
      "[CV] ........ C=10, gamma=0.01, kernel=rbf, score=0.974, total=   0.0s\n",
      "[CV] C=10, gamma=0.1, kernel=rbf .....................................\n"
     ]
    },
    {
     "name": "stderr",
     "output_type": "stream",
     "text": [
      "[Parallel(n_jobs=1)]: Using backend SequentialBackend with 1 concurrent workers.\n",
      "[Parallel(n_jobs=1)]: Done   1 out of   1 | elapsed:    0.0s remaining:    0.0s\n",
      "[Parallel(n_jobs=1)]: Done   2 out of   2 | elapsed:    0.0s remaining:    0.0s\n"
     ]
    },
    {
     "name": "stdout",
     "output_type": "stream",
     "text": [
      "[CV] ......... C=10, gamma=0.1, kernel=rbf, score=0.976, total=   0.0s\n",
      "[CV] C=10, gamma=0.1, kernel=rbf .....................................\n",
      "[CV] ......... C=10, gamma=0.1, kernel=rbf, score=0.950, total=   0.0s\n",
      "[CV] C=10, gamma=0.1, kernel=rbf .....................................\n",
      "[CV] ......... C=10, gamma=0.1, kernel=rbf, score=0.975, total=   0.0s\n",
      "[CV] C=10, gamma=0.1, kernel=rbf .....................................\n",
      "[CV] ......... C=10, gamma=0.1, kernel=rbf, score=0.900, total=   0.0s\n",
      "[CV] C=10, gamma=0.1, kernel=rbf .....................................\n",
      "[CV] ......... C=10, gamma=0.1, kernel=rbf, score=0.925, total=   0.0s\n",
      "[CV] C=10, gamma=0.1, kernel=rbf .....................................\n",
      "[CV] ......... C=10, gamma=0.1, kernel=rbf, score=0.925, total=   0.0s\n",
      "[CV] C=10, gamma=0.1, kernel=rbf .....................................\n",
      "[CV] ......... C=10, gamma=0.1, kernel=rbf, score=0.975, total=   0.0s\n",
      "[CV] C=10, gamma=0.1, kernel=rbf .....................................\n",
      "[CV] ......... C=10, gamma=0.1, kernel=rbf, score=0.974, total=   0.0s\n",
      "[CV] C=10, gamma=0.1, kernel=rbf .....................................\n",
      "[CV] ......... C=10, gamma=0.1, kernel=rbf, score=0.923, total=   0.0s\n",
      "[CV] C=10, gamma=0.1, kernel=rbf .....................................\n",
      "[CV] ......... C=10, gamma=0.1, kernel=rbf, score=0.949, total=   0.0s\n",
      "[CV] C=10, gamma=0.12, kernel=rbf ....................................\n",
      "[CV] ........ C=10, gamma=0.12, kernel=rbf, score=0.976, total=   0.0s\n",
      "[CV] C=10, gamma=0.12, kernel=rbf ....................................\n",
      "[CV] ........ C=10, gamma=0.12, kernel=rbf, score=0.925, total=   0.0s\n",
      "[CV] C=10, gamma=0.12, kernel=rbf ....................................\n",
      "[CV] ........ C=10, gamma=0.12, kernel=rbf, score=0.975, total=   0.0s\n",
      "[CV] C=10, gamma=0.12, kernel=rbf ....................................\n",
      "[CV] ........ C=10, gamma=0.12, kernel=rbf, score=0.900, total=   0.0s\n",
      "[CV] C=10, gamma=0.12, kernel=rbf ....................................\n",
      "[CV] ........ C=10, gamma=0.12, kernel=rbf, score=0.925, total=   0.0s\n",
      "[CV] C=10, gamma=0.12, kernel=rbf ....................................\n",
      "[CV] ........ C=10, gamma=0.12, kernel=rbf, score=0.925, total=   0.0s\n",
      "[CV] C=10, gamma=0.12, kernel=rbf ....................................\n",
      "[CV] ........ C=10, gamma=0.12, kernel=rbf, score=0.975, total=   0.0s\n",
      "[CV] C=10, gamma=0.12, kernel=rbf ....................................\n",
      "[CV] ........ C=10, gamma=0.12, kernel=rbf, score=0.974, total=   0.0s\n",
      "[CV] C=10, gamma=0.12, kernel=rbf ....................................\n",
      "[CV] ........ C=10, gamma=0.12, kernel=rbf, score=0.949, total=   0.0s\n",
      "[CV] C=10, gamma=0.12, kernel=rbf ....................................\n",
      "[CV] ........ C=10, gamma=0.12, kernel=rbf, score=0.897, total=   0.0s\n",
      "[CV] C=12, gamma=0.05, kernel=rbf ....................................\n",
      "[CV] ........ C=12, gamma=0.05, kernel=rbf, score=1.000, total=   0.0s\n",
      "[CV] C=12, gamma=0.05, kernel=rbf ....................................\n",
      "[CV] ........ C=12, gamma=0.05, kernel=rbf, score=0.950, total=   0.0s\n",
      "[CV] C=12, gamma=0.05, kernel=rbf ....................................\n",
      "[CV] ........ C=12, gamma=0.05, kernel=rbf, score=0.975, total=   0.0s\n",
      "[CV] C=12, gamma=0.05, kernel=rbf ....................................\n",
      "[CV] ........ C=12, gamma=0.05, kernel=rbf, score=0.875, total=   0.0s\n",
      "[CV] C=12, gamma=0.05, kernel=rbf ....................................\n",
      "[CV] ........ C=12, gamma=0.05, kernel=rbf, score=0.975, total=   0.0s\n",
      "[CV] C=12, gamma=0.05, kernel=rbf ....................................\n",
      "[CV] ........ C=12, gamma=0.05, kernel=rbf, score=0.925, total=   0.0s\n",
      "[CV] C=12, gamma=0.05, kernel=rbf ....................................\n",
      "[CV] ........ C=12, gamma=0.05, kernel=rbf, score=1.000, total=   0.0s\n",
      "[CV] C=12, gamma=0.05, kernel=rbf ....................................\n",
      "[CV] ........ C=12, gamma=0.05, kernel=rbf, score=1.000, total=   0.0s\n",
      "[CV] C=12, gamma=0.05, kernel=rbf ....................................\n",
      "[CV] ........ C=12, gamma=0.05, kernel=rbf, score=0.949, total=   0.0s\n",
      "[CV] C=12, gamma=0.05, kernel=rbf ....................................\n",
      "[CV] ........ C=12, gamma=0.05, kernel=rbf, score=0.949, total=   0.0s\n",
      "[CV] C=12, gamma=0.01, kernel=rbf ....................................\n",
      "[CV] ........ C=12, gamma=0.01, kernel=rbf, score=1.000, total=   0.0s\n",
      "[CV] C=12, gamma=0.01, kernel=rbf ....................................\n",
      "[CV] ........ C=12, gamma=0.01, kernel=rbf, score=0.975, total=   0.0s\n",
      "[CV] C=12, gamma=0.01, kernel=rbf ....................................\n",
      "[CV] ........ C=12, gamma=0.01, kernel=rbf, score=0.950, total=   0.0s\n",
      "[CV] C=12, gamma=0.01, kernel=rbf ....................................\n",
      "[CV] ........ C=12, gamma=0.01, kernel=rbf, score=0.925, total=   0.0s\n",
      "[CV] C=12, gamma=0.01, kernel=rbf ....................................\n",
      "[CV] ........ C=12, gamma=0.01, kernel=rbf, score=1.000, total=   0.0s\n",
      "[CV] C=12, gamma=0.01, kernel=rbf ....................................\n",
      "[CV] ........ C=12, gamma=0.01, kernel=rbf, score=0.950, total=   0.0s\n",
      "[CV] C=12, gamma=0.01, kernel=rbf ....................................\n",
      "[CV] ........ C=12, gamma=0.01, kernel=rbf, score=1.000, total=   0.0s\n",
      "[CV] C=12, gamma=0.01, kernel=rbf ....................................\n",
      "[CV] ........ C=12, gamma=0.01, kernel=rbf, score=1.000, total=   0.0s\n",
      "[CV] C=12, gamma=0.01, kernel=rbf ....................................\n",
      "[CV] ........ C=12, gamma=0.01, kernel=rbf, score=0.974, total=   0.0s\n",
      "[CV] C=12, gamma=0.01, kernel=rbf ....................................\n",
      "[CV] ........ C=12, gamma=0.01, kernel=rbf, score=0.949, total=   0.0s\n",
      "[CV] C=12, gamma=0.1, kernel=rbf .....................................\n",
      "[CV] ......... C=12, gamma=0.1, kernel=rbf, score=0.976, total=   0.0s\n",
      "[CV] C=12, gamma=0.1, kernel=rbf .....................................\n",
      "[CV] ......... C=12, gamma=0.1, kernel=rbf, score=0.950, total=   0.0s\n",
      "[CV] C=12, gamma=0.1, kernel=rbf .....................................\n",
      "[CV] ......... C=12, gamma=0.1, kernel=rbf, score=0.975, total=   0.0s\n",
      "[CV] C=12, gamma=0.1, kernel=rbf .....................................\n",
      "[CV] ......... C=12, gamma=0.1, kernel=rbf, score=0.900, total=   0.0s\n",
      "[CV] C=12, gamma=0.1, kernel=rbf .....................................\n",
      "[CV] ......... C=12, gamma=0.1, kernel=rbf, score=0.925, total=   0.0s\n",
      "[CV] C=12, gamma=0.1, kernel=rbf .....................................\n",
      "[CV] ......... C=12, gamma=0.1, kernel=rbf, score=0.925, total=   0.0s\n",
      "[CV] C=12, gamma=0.1, kernel=rbf .....................................\n",
      "[CV] ......... C=12, gamma=0.1, kernel=rbf, score=0.975, total=   0.0s\n",
      "[CV] C=12, gamma=0.1, kernel=rbf .....................................\n",
      "[CV] ......... C=12, gamma=0.1, kernel=rbf, score=0.974, total=   0.0s\n",
      "[CV] C=12, gamma=0.1, kernel=rbf .....................................\n",
      "[CV] ......... C=12, gamma=0.1, kernel=rbf, score=0.923, total=   0.0s\n",
      "[CV] C=12, gamma=0.1, kernel=rbf .....................................\n",
      "[CV] ......... C=12, gamma=0.1, kernel=rbf, score=0.949, total=   0.0s\n",
      "[CV] C=12, gamma=0.12, kernel=rbf ....................................\n",
      "[CV] ........ C=12, gamma=0.12, kernel=rbf, score=0.976, total=   0.0s\n",
      "[CV] C=12, gamma=0.12, kernel=rbf ....................................\n",
      "[CV] ........ C=12, gamma=0.12, kernel=rbf, score=0.925, total=   0.0s\n",
      "[CV] C=12, gamma=0.12, kernel=rbf ....................................\n",
      "[CV] ........ C=12, gamma=0.12, kernel=rbf, score=0.975, total=   0.0s\n",
      "[CV] C=12, gamma=0.12, kernel=rbf ....................................\n",
      "[CV] ........ C=12, gamma=0.12, kernel=rbf, score=0.900, total=   0.0s\n",
      "[CV] C=12, gamma=0.12, kernel=rbf ....................................\n",
      "[CV] ........ C=12, gamma=0.12, kernel=rbf, score=0.925, total=   0.0s\n",
      "[CV] C=12, gamma=0.12, kernel=rbf ....................................\n",
      "[CV] ........ C=12, gamma=0.12, kernel=rbf, score=0.925, total=   0.0s\n",
      "[CV] C=12, gamma=0.12, kernel=rbf ....................................\n",
      "[CV] ........ C=12, gamma=0.12, kernel=rbf, score=0.975, total=   0.0s\n",
      "[CV] C=12, gamma=0.12, kernel=rbf ....................................\n",
      "[CV] ........ C=12, gamma=0.12, kernel=rbf, score=0.974, total=   0.0s\n",
      "[CV] C=12, gamma=0.12, kernel=rbf ....................................\n",
      "[CV] ........ C=12, gamma=0.12, kernel=rbf, score=0.949, total=   0.0s\n",
      "[CV] C=12, gamma=0.12, kernel=rbf ....................................\n",
      "[CV] ........ C=12, gamma=0.12, kernel=rbf, score=0.897, total=   0.0s\n",
      "[CV] C=11, gamma=0.05, kernel=rbf ....................................\n",
      "[CV] ........ C=11, gamma=0.05, kernel=rbf, score=1.000, total=   0.0s\n",
      "[CV] C=11, gamma=0.05, kernel=rbf ....................................\n",
      "[CV] ........ C=11, gamma=0.05, kernel=rbf, score=0.950, total=   0.0s\n",
      "[CV] C=11, gamma=0.05, kernel=rbf ....................................\n",
      "[CV] ........ C=11, gamma=0.05, kernel=rbf, score=0.975, total=   0.0s\n",
      "[CV] C=11, gamma=0.05, kernel=rbf ....................................\n",
      "[CV] ........ C=11, gamma=0.05, kernel=rbf, score=0.875, total=   0.0s\n",
      "[CV] C=11, gamma=0.05, kernel=rbf ....................................\n",
      "[CV] ........ C=11, gamma=0.05, kernel=rbf, score=0.975, total=   0.0s\n",
      "[CV] C=11, gamma=0.05, kernel=rbf ....................................\n",
      "[CV] ........ C=11, gamma=0.05, kernel=rbf, score=0.925, total=   0.0s\n",
      "[CV] C=11, gamma=0.05, kernel=rbf ....................................\n",
      "[CV] ........ C=11, gamma=0.05, kernel=rbf, score=1.000, total=   0.0s\n",
      "[CV] C=11, gamma=0.05, kernel=rbf ....................................\n",
      "[CV] ........ C=11, gamma=0.05, kernel=rbf, score=1.000, total=   0.0s\n",
      "[CV] C=11, gamma=0.05, kernel=rbf ....................................\n",
      "[CV] ........ C=11, gamma=0.05, kernel=rbf, score=0.949, total=   0.0s\n",
      "[CV] C=11, gamma=0.05, kernel=rbf ....................................\n",
      "[CV] ........ C=11, gamma=0.05, kernel=rbf, score=0.949, total=   0.0s\n",
      "[CV] C=11, gamma=0.01, kernel=rbf ....................................\n"
     ]
    },
    {
     "name": "stdout",
     "output_type": "stream",
     "text": [
      "[CV] ........ C=11, gamma=0.01, kernel=rbf, score=1.000, total=   0.0s\n",
      "[CV] C=11, gamma=0.01, kernel=rbf ....................................\n",
      "[CV] ........ C=11, gamma=0.01, kernel=rbf, score=0.975, total=   0.0s\n",
      "[CV] C=11, gamma=0.01, kernel=rbf ....................................\n",
      "[CV] ........ C=11, gamma=0.01, kernel=rbf, score=0.950, total=   0.0s\n",
      "[CV] C=11, gamma=0.01, kernel=rbf ....................................\n",
      "[CV] ........ C=11, gamma=0.01, kernel=rbf, score=0.950, total=   0.0s\n",
      "[CV] C=11, gamma=0.01, kernel=rbf ....................................\n",
      "[CV] ........ C=11, gamma=0.01, kernel=rbf, score=1.000, total=   0.0s\n",
      "[CV] C=11, gamma=0.01, kernel=rbf ....................................\n",
      "[CV] ........ C=11, gamma=0.01, kernel=rbf, score=0.950, total=   0.0s\n",
      "[CV] C=11, gamma=0.01, kernel=rbf ....................................\n",
      "[CV] ........ C=11, gamma=0.01, kernel=rbf, score=1.000, total=   0.0s\n",
      "[CV] C=11, gamma=0.01, kernel=rbf ....................................\n",
      "[CV] ........ C=11, gamma=0.01, kernel=rbf, score=1.000, total=   0.0s\n",
      "[CV] C=11, gamma=0.01, kernel=rbf ....................................\n",
      "[CV] ........ C=11, gamma=0.01, kernel=rbf, score=0.974, total=   0.0s\n",
      "[CV] C=11, gamma=0.01, kernel=rbf ....................................\n",
      "[CV] ........ C=11, gamma=0.01, kernel=rbf, score=0.974, total=   0.0s\n",
      "[CV] C=11, gamma=0.1, kernel=rbf .....................................\n",
      "[CV] ......... C=11, gamma=0.1, kernel=rbf, score=0.976, total=   0.0s\n",
      "[CV] C=11, gamma=0.1, kernel=rbf .....................................\n",
      "[CV] ......... C=11, gamma=0.1, kernel=rbf, score=0.950, total=   0.0s\n",
      "[CV] C=11, gamma=0.1, kernel=rbf .....................................\n",
      "[CV] ......... C=11, gamma=0.1, kernel=rbf, score=0.975, total=   0.0s\n",
      "[CV] C=11, gamma=0.1, kernel=rbf .....................................\n",
      "[CV] ......... C=11, gamma=0.1, kernel=rbf, score=0.900, total=   0.0s\n",
      "[CV] C=11, gamma=0.1, kernel=rbf .....................................\n",
      "[CV] ......... C=11, gamma=0.1, kernel=rbf, score=0.925, total=   0.0s\n",
      "[CV] C=11, gamma=0.1, kernel=rbf .....................................\n",
      "[CV] ......... C=11, gamma=0.1, kernel=rbf, score=0.925, total=   0.0s\n",
      "[CV] C=11, gamma=0.1, kernel=rbf .....................................\n",
      "[CV] ......... C=11, gamma=0.1, kernel=rbf, score=0.975, total=   0.0s\n",
      "[CV] C=11, gamma=0.1, kernel=rbf .....................................\n",
      "[CV] ......... C=11, gamma=0.1, kernel=rbf, score=0.974, total=   0.0s\n",
      "[CV] C=11, gamma=0.1, kernel=rbf .....................................\n",
      "[CV] ......... C=11, gamma=0.1, kernel=rbf, score=0.923, total=   0.0s\n",
      "[CV] C=11, gamma=0.1, kernel=rbf .....................................\n",
      "[CV] ......... C=11, gamma=0.1, kernel=rbf, score=0.949, total=   0.0s\n",
      "[CV] C=11, gamma=0.12, kernel=rbf ....................................\n",
      "[CV] ........ C=11, gamma=0.12, kernel=rbf, score=0.976, total=   0.0s\n",
      "[CV] C=11, gamma=0.12, kernel=rbf ....................................\n",
      "[CV] ........ C=11, gamma=0.12, kernel=rbf, score=0.925, total=   0.0s\n",
      "[CV] C=11, gamma=0.12, kernel=rbf ....................................\n",
      "[CV] ........ C=11, gamma=0.12, kernel=rbf, score=0.975, total=   0.0s\n",
      "[CV] C=11, gamma=0.12, kernel=rbf ....................................\n",
      "[CV] ........ C=11, gamma=0.12, kernel=rbf, score=0.900, total=   0.0s\n",
      "[CV] C=11, gamma=0.12, kernel=rbf ....................................\n",
      "[CV] ........ C=11, gamma=0.12, kernel=rbf, score=0.925, total=   0.0s\n",
      "[CV] C=11, gamma=0.12, kernel=rbf ....................................\n",
      "[CV] ........ C=11, gamma=0.12, kernel=rbf, score=0.925, total=   0.0s\n",
      "[CV] C=11, gamma=0.12, kernel=rbf ....................................\n",
      "[CV] ........ C=11, gamma=0.12, kernel=rbf, score=0.975, total=   0.0s\n",
      "[CV] C=11, gamma=0.12, kernel=rbf ....................................\n",
      "[CV] ........ C=11, gamma=0.12, kernel=rbf, score=0.974, total=   0.0s\n",
      "[CV] C=11, gamma=0.12, kernel=rbf ....................................\n",
      "[CV] ........ C=11, gamma=0.12, kernel=rbf, score=0.949, total=   0.0s\n",
      "[CV] C=11, gamma=0.12, kernel=rbf ....................................\n",
      "[CV] ........ C=11, gamma=0.12, kernel=rbf, score=0.897, total=   0.0s\n",
      "[CV] C=9, gamma=0.05, kernel=rbf .....................................\n",
      "[CV] ......... C=9, gamma=0.05, kernel=rbf, score=1.000, total=   0.0s\n",
      "[CV] C=9, gamma=0.05, kernel=rbf .....................................\n",
      "[CV] ......... C=9, gamma=0.05, kernel=rbf, score=0.950, total=   0.0s\n",
      "[CV] C=9, gamma=0.05, kernel=rbf .....................................\n",
      "[CV] ......... C=9, gamma=0.05, kernel=rbf, score=0.975, total=   0.0s\n",
      "[CV] C=9, gamma=0.05, kernel=rbf .....................................\n",
      "[CV] ......... C=9, gamma=0.05, kernel=rbf, score=0.900, total=   0.0s\n",
      "[CV] C=9, gamma=0.05, kernel=rbf .....................................\n",
      "[CV] ......... C=9, gamma=0.05, kernel=rbf, score=0.975, total=   0.0s\n",
      "[CV] C=9, gamma=0.05, kernel=rbf .....................................\n",
      "[CV] ......... C=9, gamma=0.05, kernel=rbf, score=0.925, total=   0.0s\n",
      "[CV] C=9, gamma=0.05, kernel=rbf .....................................\n",
      "[CV] ......... C=9, gamma=0.05, kernel=rbf, score=1.000, total=   0.0s\n",
      "[CV] C=9, gamma=0.05, kernel=rbf .....................................\n",
      "[CV] ......... C=9, gamma=0.05, kernel=rbf, score=1.000, total=   0.0s\n",
      "[CV] C=9, gamma=0.05, kernel=rbf .....................................\n",
      "[CV] ......... C=9, gamma=0.05, kernel=rbf, score=0.949, total=   0.0s\n",
      "[CV] C=9, gamma=0.05, kernel=rbf .....................................\n",
      "[CV] ......... C=9, gamma=0.05, kernel=rbf, score=0.949, total=   0.0s\n",
      "[CV] C=9, gamma=0.01, kernel=rbf .....................................\n",
      "[CV] ......... C=9, gamma=0.01, kernel=rbf, score=1.000, total=   0.0s\n",
      "[CV] C=9, gamma=0.01, kernel=rbf .....................................\n",
      "[CV] ......... C=9, gamma=0.01, kernel=rbf, score=0.975, total=   0.0s\n",
      "[CV] C=9, gamma=0.01, kernel=rbf .....................................\n",
      "[CV] ......... C=9, gamma=0.01, kernel=rbf, score=0.950, total=   0.0s\n",
      "[CV] C=9, gamma=0.01, kernel=rbf .....................................\n",
      "[CV] ......... C=9, gamma=0.01, kernel=rbf, score=0.950, total=   0.0s\n",
      "[CV] C=9, gamma=0.01, kernel=rbf .....................................\n",
      "[CV] ......... C=9, gamma=0.01, kernel=rbf, score=1.000, total=   0.0s\n",
      "[CV] C=9, gamma=0.01, kernel=rbf .....................................\n",
      "[CV] ......... C=9, gamma=0.01, kernel=rbf, score=0.950, total=   0.0s\n",
      "[CV] C=9, gamma=0.01, kernel=rbf .....................................\n",
      "[CV] ......... C=9, gamma=0.01, kernel=rbf, score=1.000, total=   0.0s\n",
      "[CV] C=9, gamma=0.01, kernel=rbf .....................................\n",
      "[CV] ......... C=9, gamma=0.01, kernel=rbf, score=1.000, total=   0.0s\n",
      "[CV] C=9, gamma=0.01, kernel=rbf .....................................\n",
      "[CV] ......... C=9, gamma=0.01, kernel=rbf, score=0.974, total=   0.0s\n",
      "[CV] C=9, gamma=0.01, kernel=rbf .....................................\n",
      "[CV] ......... C=9, gamma=0.01, kernel=rbf, score=0.974, total=   0.0s\n",
      "[CV] C=9, gamma=0.1, kernel=rbf ......................................\n",
      "[CV] .......... C=9, gamma=0.1, kernel=rbf, score=0.976, total=   0.0s\n",
      "[CV] C=9, gamma=0.1, kernel=rbf ......................................\n",
      "[CV] .......... C=9, gamma=0.1, kernel=rbf, score=0.950, total=   0.0s\n",
      "[CV] C=9, gamma=0.1, kernel=rbf ......................................\n",
      "[CV] .......... C=9, gamma=0.1, kernel=rbf, score=0.975, total=   0.0s\n",
      "[CV] C=9, gamma=0.1, kernel=rbf ......................................\n",
      "[CV] .......... C=9, gamma=0.1, kernel=rbf, score=0.900, total=   0.0s\n",
      "[CV] C=9, gamma=0.1, kernel=rbf ......................................\n",
      "[CV] .......... C=9, gamma=0.1, kernel=rbf, score=0.925, total=   0.0s\n",
      "[CV] C=9, gamma=0.1, kernel=rbf ......................................\n",
      "[CV] .......... C=9, gamma=0.1, kernel=rbf, score=0.925, total=   0.0s\n",
      "[CV] C=9, gamma=0.1, kernel=rbf ......................................\n",
      "[CV] .......... C=9, gamma=0.1, kernel=rbf, score=0.975, total=   0.0s\n",
      "[CV] C=9, gamma=0.1, kernel=rbf ......................................\n",
      "[CV] .......... C=9, gamma=0.1, kernel=rbf, score=0.974, total=   0.0s\n",
      "[CV] C=9, gamma=0.1, kernel=rbf ......................................\n",
      "[CV] .......... C=9, gamma=0.1, kernel=rbf, score=0.923, total=   0.0s\n",
      "[CV] C=9, gamma=0.1, kernel=rbf ......................................\n",
      "[CV] .......... C=9, gamma=0.1, kernel=rbf, score=0.949, total=   0.0s\n",
      "[CV] C=9, gamma=0.12, kernel=rbf .....................................\n",
      "[CV] ......... C=9, gamma=0.12, kernel=rbf, score=0.976, total=   0.0s\n",
      "[CV] C=9, gamma=0.12, kernel=rbf .....................................\n",
      "[CV] ......... C=9, gamma=0.12, kernel=rbf, score=0.925, total=   0.0s\n",
      "[CV] C=9, gamma=0.12, kernel=rbf .....................................\n",
      "[CV] ......... C=9, gamma=0.12, kernel=rbf, score=0.975, total=   0.0s\n",
      "[CV] C=9, gamma=0.12, kernel=rbf .....................................\n"
     ]
    },
    {
     "name": "stdout",
     "output_type": "stream",
     "text": [
      "[CV] ......... C=9, gamma=0.12, kernel=rbf, score=0.900, total=   0.0s\n",
      "[CV] C=9, gamma=0.12, kernel=rbf .....................................\n",
      "[CV] ......... C=9, gamma=0.12, kernel=rbf, score=0.925, total=   0.0s\n",
      "[CV] C=9, gamma=0.12, kernel=rbf .....................................\n",
      "[CV] ......... C=9, gamma=0.12, kernel=rbf, score=0.925, total=   0.1s\n",
      "[CV] C=9, gamma=0.12, kernel=rbf .....................................\n",
      "[CV] ......... C=9, gamma=0.12, kernel=rbf, score=0.975, total=   0.0s\n",
      "[CV] C=9, gamma=0.12, kernel=rbf .....................................\n",
      "[CV] ......... C=9, gamma=0.12, kernel=rbf, score=0.974, total=   0.0s\n",
      "[CV] C=9, gamma=0.12, kernel=rbf .....................................\n",
      "[CV] ......... C=9, gamma=0.12, kernel=rbf, score=0.949, total=   0.0s\n",
      "[CV] C=9, gamma=0.12, kernel=rbf .....................................\n",
      "[CV] ......... C=9, gamma=0.12, kernel=rbf, score=0.897, total=   0.0s\n"
     ]
    },
    {
     "name": "stderr",
     "output_type": "stream",
     "text": [
      "[Parallel(n_jobs=1)]: Done 160 out of 160 | elapsed:    1.4s finished\n"
     ]
    },
    {
     "data": {
      "text/plain": [
       "GridSearchCV(cv=10, error_score='raise-deprecating',\n",
       "             estimator=SVC(C=1.0, cache_size=200, class_weight=None, coef0=0.0,\n",
       "                           decision_function_shape='ovr', degree=3,\n",
       "                           gamma='auto_deprecated', kernel='rbf', max_iter=-1,\n",
       "                           probability=False, random_state=None, shrinking=True,\n",
       "                           tol=0.001, verbose=False),\n",
       "             iid='warn', n_jobs=None,\n",
       "             param_grid=[{'C': [10, 12, 11, 9],\n",
       "                          'gamma': [0.05, 0.01, 0.1, 0.12],\n",
       "                          'kernel': ['rbf']}],\n",
       "             pre_dispatch='2*n_jobs', refit=True, return_train_score=False,\n",
       "             scoring=None, verbose=3)"
      ]
     },
     "execution_count": 93,
     "metadata": {},
     "output_type": "execute_result"
    }
   ],
   "source": [
    "grid.fit(X_train,y_train)"
   ]
  },
  {
   "cell_type": "code",
   "execution_count": 94,
   "metadata": {},
   "outputs": [
    {
     "data": {
      "text/plain": [
       "{'C': 10, 'gamma': 0.01, 'kernel': 'rbf'}"
      ]
     },
     "execution_count": 94,
     "metadata": {},
     "output_type": "execute_result"
    }
   ],
   "source": [
    "grid.best_params_"
   ]
  },
  {
   "cell_type": "code",
   "execution_count": 95,
   "metadata": {},
   "outputs": [
    {
     "data": {
      "text/plain": [
       "0.9773869346733668"
      ]
     },
     "execution_count": 95,
     "metadata": {},
     "output_type": "execute_result"
    }
   ],
   "source": [
    "grid.best_score_"
   ]
  },
  {
   "cell_type": "code",
   "execution_count": 96,
   "metadata": {},
   "outputs": [],
   "source": [
    "pr=grid.predict(X_test)"
   ]
  },
  {
   "cell_type": "code",
   "execution_count": 97,
   "metadata": {},
   "outputs": [
    {
     "name": "stdout",
     "output_type": "stream",
     "text": [
      "[[ 59   2]\n",
      " [  1 109]]\n"
     ]
    }
   ],
   "source": [
    "print(confusion_matrix(y_test,pr))"
   ]
  },
  {
   "cell_type": "code",
   "execution_count": 98,
   "metadata": {},
   "outputs": [
    {
     "name": "stdout",
     "output_type": "stream",
     "text": [
      "              precision    recall  f1-score   support\n",
      "\n",
      "         0.0       0.98      0.97      0.98        61\n",
      "         1.0       0.98      0.99      0.99       110\n",
      "\n",
      "    accuracy                           0.98       171\n",
      "   macro avg       0.98      0.98      0.98       171\n",
      "weighted avg       0.98      0.98      0.98       171\n",
      "\n"
     ]
    }
   ],
   "source": [
    "print(classification_report(y_test,pr))"
   ]
  },
  {
   "cell_type": "code",
   "execution_count": null,
   "metadata": {},
   "outputs": [],
   "source": []
  }
 ],
 "metadata": {
  "kernelspec": {
   "display_name": "Python 3",
   "language": "python",
   "name": "python3"
  },
  "language_info": {
   "codemirror_mode": {
    "name": "ipython",
    "version": 3
   },
   "file_extension": ".py",
   "mimetype": "text/x-python",
   "name": "python",
   "nbconvert_exporter": "python",
   "pygments_lexer": "ipython3",
   "version": "3.7.4"
  }
 },
 "nbformat": 4,
 "nbformat_minor": 2
}
